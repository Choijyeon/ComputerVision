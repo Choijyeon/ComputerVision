{
 "cells": [
  {
   "cell_type": "code",
   "execution_count": 1,
   "metadata": {},
   "outputs": [],
   "source": [
    "import numpy as np, cv2"
   ]
  },
  {
   "cell_type": "code",
   "execution_count": null,
   "metadata": {},
   "outputs": [
    {
     "name": "stdout",
     "output_type": "stream",
     "text": [
      "원본 영상 최솟값= 13 , 최댓값= 107\n",
      "수정 영상 최솟값= 0 , 최댓값= 255\n"
     ]
    }
   ],
   "source": [
    "image = cv2.imread(\"images/minMax.jpg\", cv2.IMREAD_GRAYSCALE)\n",
    "if image is None: raise Exception(\"영상 파일 읽기 오류 발생\")\n",
    "\n",
    "(min_val, max_val, _, _) = cv2.minMaxLoc(image) # 최솟값과 최댓값 가져오기\n",
    "\n",
    "ratio = 255/(max_val - min_val)\n",
    "dst = np.round((image - min_val) * ratio).astype('uint8')\n",
    "(min_dst, max_dst, _, _) = cv2.minMaxLoc(dst)\n",
    "\n",
    "print(\"원본 영상 최솟값= %d , 최댓값= %d\" % (min_val, max_val))\n",
    "print(\"수정 영상 최솟값= %d , 최댓값= %d\" % (min_dst, max_dst))\n",
    "cv2.imshow(\"image\", image)\n",
    "cv2.imshow(\"dst\"  , dst)\n",
    "cv2.waitKey(0)\n",
    "cv2.destroyAllWindows()"
   ]
  },
  {
   "cell_type": "code",
   "execution_count": null,
   "metadata": {},
   "outputs": [],
   "source": []
  }
 ],
 "metadata": {
  "kernelspec": {
   "display_name": "Python 3",
   "language": "python",
   "name": "python3"
  },
  "language_info": {
   "codemirror_mode": {
    "name": "ipython",
    "version": 3
   },
   "file_extension": ".py",
   "mimetype": "text/x-python",
   "name": "python",
   "nbconvert_exporter": "python",
   "pygments_lexer": "ipython3",
   "version": "3.8.5"
  }
 },
 "nbformat": 4,
 "nbformat_minor": 4
}
