{
 "cells": [
  {
   "cell_type": "code",
   "execution_count": 2,
   "metadata": {},
   "outputs": [],
   "source": [
    "import numpy as np, cv2"
   ]
  },
  {
   "cell_type": "code",
   "execution_count": 3,
   "metadata": {},
   "outputs": [],
   "source": [
    "def print_rects(rects):\n",
    "    print(\"-\" * 46)# 라인 출력\n",
    "    print(\"사각형 원소\\t\\t랜덤 사각형 정보\\t\\t  크기\")\n",
    "    print(\"-\" * 46)\n",
    "    for i, (x,y, w,h, a) in enumerate(rects):# 저장 데이터 출력\n",
    "         print(\"rects[%i] = [(%3d,%3d) from (%3d,%3d)] %5d\" %(i, x, y, w, h, a))\n",
    "    print()"
   ]
  },
  {
   "cell_type": "code",
   "execution_count": 7,
   "metadata": {},
   "outputs": [
    {
     "name": "stdout",
     "output_type": "stream",
     "text": [
      "[[ 94  53 414 429   0]\n",
      " [126 106 384 295   0]\n",
      " [102  51 359 201   0]\n",
      " [143 163 360 306   0]\n",
      " [ 62 128 371 228   0]]\n",
      "[[ 94  53]\n",
      " [126 106]\n",
      " [102  51]\n",
      " [143 163]\n",
      " [ 62 128]]\n",
      "[[414 429]\n",
      " [384 295]\n",
      " [359 201]\n",
      " [360 306]\n",
      " [371 228]]\n",
      "[[320 376]\n",
      " [258 189]\n",
      " [257 150]\n",
      " [217 143]\n",
      " [309 100]]\n",
      "[54784 48762 38550 31031 30900]\n",
      "[[   94    53   320   376 54784]\n",
      " [  126   106   258   189 48762]\n",
      " [  102    51   257   150 38550]\n",
      " [  143   163   217   143 31031]\n",
      " [   62   128   309   100 30900]]\n",
      "----------------------------------------------\n",
      "사각형 원소\t\t랜덤 사각형 정보\t\t  크기\n",
      "----------------------------------------------\n",
      "rects[0] = [( 94, 53) from (320,376)] 54784\n",
      "rects[1] = [(126,106) from (258,189)] 48762\n",
      "rects[2] = [(102, 51) from (257,150)] 38550\n",
      "rects[3] = [(143,163) from (217,143)] 31031\n",
      "rects[4] = [( 62,128) from (309,100)] 30900\n",
      "\n",
      "----------------------------------------------\n",
      "사각형 원소\t\t랜덤 사각형 정보\t\t  크기\n",
      "----------------------------------------------\n",
      "rects[0] = [( 62,128) from (309,100)] 30900\n",
      "rects[1] = [(143,163) from (217,143)] 31031\n",
      "rects[2] = [(102, 51) from (257,150)] 38550\n",
      "rects[3] = [(126,106) from (258,189)] 48762\n",
      "rects[4] = [( 94, 53) from (320,376)] 54784\n",
      "\n"
     ]
    }
   ],
   "source": [
    "rands = np.zeros((5, 5), np.uint16) # 5행 5열 행렬 생성\n",
    "starts = cv2.randn(rands[:, :2 ], 100, 50) # 0~4행까지 시작좌표 랜덤 생성\n",
    "ends = cv2.randn(rands[:, 2:-1], 300, 50) # 5~9행까지 종료좌표 랜덤 생성\n",
    "\n",
    "print(rands)\n",
    "print(starts)\n",
    "print(ends)\n",
    "\n",
    "sizes = cv2.absdiff(starts, ends) # 시작좌표와 종료좌표간 차분 절대값\n",
    "areas = sizes[:, 0] * sizes[:, 1]\n",
    "rects = rands.copy()\n",
    "rects[:, 2:-1] = sizes\n",
    "rects[:,-1] = areas\n",
    "\n",
    "print(sizes)\n",
    "print(areas)\n",
    "print(rects)\n",
    "\n",
    "idx = cv2.sortIdx(areas, cv2.SORT_EVERY_COLUMN).flatten()\n",
    "# idx = np.argsort(areas, axis=0)\n",
    "\n",
    "print_rects(rects)\n",
    "print_rects(rects[idx.astype('int')])\n",
    "\n",
    "# ## 리스트 생성 방식\n",
    "# # rects = [\"[(%3d,%3d) from (%3d,%3d)]\" %(p[0], p[1], s[0], s[1])\n",
    "# #          for p, s in zip(starts, sizes)] # 시작좌표와 크기로 리스트 생성\n",
    "# # areas = [s[0]*s[1] for s in sizes] # 넓이 계산 및 리스트에 저장\n",
    "# #\n",
    "# # # 정렬 후, 정렬 원소의 원본 좌표 반환\n",
    "# # sort_idx = cv2.sortIdx(np.array(areas), cv2.SORT_EVERY_COLUMN)\n",
    "# # sort_idx = map(int , sort_idx)\n",
    "# #\n",
    "# # print(\"-\" * 46) # 라인 출력\n",
    "# # print(\"사각형 원소\\t\\t랜덤 사각형 정보\\t  크기\")\n",
    "# # print(\"-\" * 46)\n",
    "# # for i, rect, area in zip(range(5), rects, areas): # 저장 데이터 출력\n",
    "# #     print(\"rects[\"+ str(i) + \"] =\", rect, area)\n",
    "# #\n",
    "# # print()\n",
    "# # print(\"-\" * 46)\n",
    "# # print(\"사각형 원소\\t\\t정렬 사각형 정보\\t  크기\")\n",
    "# # print(\"-\" * 46)\n",
    "# # for idx in sort_idx: # 정렬 데이터 출력\n",
    "# #     print(\"rects[\" + str(idx) + \"] =\", rects[idx], areas[idx])\n",
    "\n",
    "\n"
   ]
  }
 ],
 "metadata": {
  "kernelspec": {
   "display_name": "Python 3",
   "language": "python",
   "name": "python3"
  },
  "language_info": {
   "codemirror_mode": {
    "name": "ipython",
    "version": 3
   },
   "file_extension": ".py",
   "mimetype": "text/x-python",
   "name": "python",
   "nbconvert_exporter": "python",
   "pygments_lexer": "ipython3",
   "version": "3.8.5"
  }
 },
 "nbformat": 4,
 "nbformat_minor": 4
}
