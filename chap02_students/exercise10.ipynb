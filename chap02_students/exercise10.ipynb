{
 "cells": [
  {
   "cell_type": "code",
   "execution_count": 1,
   "metadata": {},
   "outputs": [],
   "source": [
    "import numpy as np, cv2"
   ]
  },
  {
   "cell_type": "code",
   "execution_count": 2,
   "metadata": {},
   "outputs": [
    {
     "name": "stdout",
     "output_type": "stream",
     "text": [
      "[m1] = \n",
      "[[ 10 200   5   7   9]\n",
      " [ 15  35  60  80 170]\n",
      " [100   2  55  37  70]]\n",
      "\n",
      "[m_min] = \n",
      "[[10 30  5  7  9]\n",
      " [15 30 30 30 30]\n",
      " [30  2 30 30 30]]\n",
      "\n",
      "[m_max] = \n",
      "[[ 50 200  50  50  50]\n",
      " [ 50  50  60  80 170]\n",
      " [100  50  55  50  70]]\n",
      "\n",
      "m1 행렬 최솟값 좌표 (1, 2), 최솟값: 2\n",
      "m1 행렬 최댓값 좌표 (1, 0), 최댓값: 200\n"
     ]
    }
   ],
   "source": [
    "data = [10, 200, 5 , 7 ,  9,\n",
    "        15, 35 , 60, 80, 170,\n",
    "        100, 2 , 55, 37, 70]    # 1차원 리스트 생성\n",
    "m1 = np.reshape(data, (3, 5)) # 리스트 행태 변환하여 2차원 행렬 생성\n",
    "m2 = np.full((3, 5), 50)              # 원소값 50인 2차원 행렬 생성\n",
    "\n",
    "m_min = cv2.min(m1, 30) # 행렬 원소와 스칼라 간 최솟값을 행렬로 저장\n",
    "m_max = cv2.max(m1, m2)# 두 행렬 원소간 최댓값 계산\n",
    "\n",
    "## 행렬의 최솟값/최댓값과 그 좌표들을 반환\n",
    "min_val, max_val, min_loc, max_loc = cv2.minMaxLoc(m1)\n",
    "\n",
    "print(\"[m1] = \\n%s\\n\" % m1)\n",
    "print(\"[m_min] = \\n%s\\n\" % m_min)\n",
    "print(\"[m_max] = \\n%s\\n\" % m_max)\n",
    "\n",
    "# min_loc와 max_loc 좌표는 (y, x)이므로 행렬의 좌표 위차와 반대임\n",
    "print(\"m1 행렬 최솟값 좌표 %s, 최솟값: %d\" %(min_loc, min_val) )\n",
    "print(\"m1 행렬 최댓값 좌표 %s, 최댓값: %d\" %(max_loc, max_val) )"
   ]
  },
  {
   "cell_type": "code",
   "execution_count": null,
   "metadata": {},
   "outputs": [],
   "source": []
  }
 ],
 "metadata": {
  "kernelspec": {
   "display_name": "Python 3",
   "language": "python",
   "name": "python3"
  },
  "language_info": {
   "codemirror_mode": {
    "name": "ipython",
    "version": 3
   },
   "file_extension": ".py",
   "mimetype": "text/x-python",
   "name": "python",
   "nbconvert_exporter": "python",
   "pygments_lexer": "ipython3",
   "version": "3.8.5"
  }
 },
 "nbformat": 4,
 "nbformat_minor": 4
}
