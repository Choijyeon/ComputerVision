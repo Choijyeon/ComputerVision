{
 "cells": [
  {
   "cell_type": "code",
   "execution_count": 1,
   "metadata": {},
   "outputs": [],
   "source": [
    "import numpy as np # 행렬 연산\n",
    "import cv2 # 영상 처리"
   ]
  },
  {
   "cell_type": "code",
   "execution_count": 4,
   "metadata": {},
   "outputs": [
    {
     "name": "stdout",
     "output_type": "stream",
     "text": [
      "split_bgr 행렬 형태  (3, 2, 4)\n",
      "merge_bgr 행렬 형태 (2, 4, 3)\n",
      "[ch0] = \n",
      "[[10 10 10 10]\n",
      " [10 10 10 10]]\n",
      "[ch1] = \n",
      "[[20 20 20 20]\n",
      " [20 20 20 20]]\n",
      "[ch2] = \n",
      "[[30 30 30 30]\n",
      " [30 30 30 30]]\n",
      "[merge_bgr] = \n",
      " [[[10 20 30]\n",
      "  [10 20 30]\n",
      "  [10 20 30]\n",
      "  [10 20 30]]\n",
      "\n",
      " [[10 20 30]\n",
      "  [10 20 30]\n",
      "  [10 20 30]\n",
      "  [10 20 30]]]\n",
      "\n",
      "[split_bgr[0]] =\n",
      "[[10 10 10 10]\n",
      " [10 10 10 10]] \n",
      "[split_bgr[1]] =\n",
      "[[20 20 20 20]\n",
      " [20 20 20 20]] \n",
      "[split_bgr[2]] =\n",
      "[[30 30 30 30]\n",
      " [30 30 30 30]] \n"
     ]
    }
   ],
   "source": [
    "# numpy array이용해 단일 채널 3개 생성\n",
    "ch0 = np.zeros((2,4), np.uint8) + 10 # 0원소 행렬 선언 후 10 더하기 -> Blue\n",
    "# uint8 = unsigned integer 8 \n",
    "ch1 = np.ones((2,4), np.uint8) * 20 # 1원소 행렬 선언 후 20 곱하기 -> Green\n",
    "\n",
    "# ch2 = np.zeros((2,4), np.uint8)\n",
    "# ch2[:] = 30   # 0원소 행렬 선언 후 행렬원소값 30 지정 -> Red\n",
    "ch2 = np.full((2,4), 30, np.uint8)\n",
    "\n",
    "list_bgr = [ch0, ch1, ch2]# 단일 채널들을 모아 리스트 구성\n",
    "merge_bgr = cv2.merge(list_bgr) # 채널 합성 merge 조건!!채널들(b,g,r)의 크기가 동일해야 가능\n",
    "split_bgr = cv2.split(merge_bgr)# 채널 분리: 컬러영상--> 3채널 분리 split\n",
    "\n",
    "print('split_bgr 행렬 형태 ', np.array(split_bgr).shape)\n",
    "print('merge_bgr 행렬 형태', merge_bgr.shape)\n",
    "\n",
    "print(\"[ch0] = \\n%s\" % ch0)                     # 단일 채널 원소 출력\n",
    "print(\"[ch1] = \\n%s\" % ch1)\n",
    "print(\"[ch2] = \\n%s\" % ch2)\n",
    "print(\"[merge_bgr] = \\n %s\\n\" % merge_bgr)       # 다중 채널 원소 출력\n",
    "\n",
    "print(\"[split_bgr[0]] =\\n%s \" % split_bgr[0])\n",
    "print(\"[split_bgr[1]] =\\n%s \" % split_bgr[1])\n",
    "print(\"[split_bgr[2]] =\\n%s \" % split_bgr[2])"
   ]
  },
  {
   "cell_type": "code",
   "execution_count": null,
   "metadata": {},
   "outputs": [],
   "source": []
  }
 ],
 "metadata": {
  "kernelspec": {
   "display_name": "Python 3",
   "language": "python",
   "name": "python3"
  },
  "language_info": {
   "codemirror_mode": {
    "name": "ipython",
    "version": 3
   },
   "file_extension": ".py",
   "mimetype": "text/x-python",
   "name": "python",
   "nbconvert_exporter": "python",
   "pygments_lexer": "ipython3",
   "version": "3.8.5"
  }
 },
 "nbformat": 4,
 "nbformat_minor": 4
}
