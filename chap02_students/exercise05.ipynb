{
 "cells": [
  {
   "cell_type": "code",
   "execution_count": 1,
   "metadata": {},
   "outputs": [],
   "source": [
    "import numpy as np, cv2"
   ]
  },
  {
   "cell_type": "code",
   "execution_count": 2,
   "metadata": {},
   "outputs": [
    {
     "name": "stdout",
     "output_type": "stream",
     "text": [
      "[v1] 형태: (3,) 원소: [1. 2. 3.]\n",
      "[v2] 형태: (3, 1) 원소:\n",
      "[[1.]\n",
      " [2.]\n",
      " [3.]]\n",
      "[v3] 형태: (1, 3) 원소: [[1. 2. 3.]]\n",
      "\n",
      "[v1_exp] 자료형: <class 'numpy.ndarray'> 형태: (3, 1)\n",
      "[v2_exp] 자료형: <class 'numpy.ndarray'> 형태: (3, 1)\n",
      "[v3_exp] 자료형: <class 'numpy.ndarray'> 형태: (1, 3)\n",
      "\n",
      "[log] = [[0.        0.6931472 1.0986123]]\n",
      "[sqrt] = [1.        1.4142135 1.7320508]\n",
      "[pow] = [ 1.  8. 27.]\n"
     ]
    }
   ],
   "source": [
    "# numpy array 생성 예시\n",
    "v1 = np.array([1, 2, 3], np.float32)          # 1차원 리스트로 생성- 행벡터\n",
    "v2 = np.array([[1], [2], [3]], np.float32)      # 2차원 리스트로(3행, 1열) - 행벡터\n",
    "v3 = np.array([[1, 2, 3]], np.float32)        \t# 2차원 리스트로(1행, 3열) - 일반 행렬\n",
    "\n",
    "# OpenCV 산술 연산 함수는 numpy array만 가능함\n",
    "v1_exp = cv2.exp(v1) # 벡터에 대한 지수 계산\n",
    "v2_exp = cv2.exp(v2) # 행렬에 대한 지수 계산\n",
    "v3_exp = cv2.exp(v3) # 행렬에 대한 지수 계산\n",
    "v_log = cv2.log(v1) # 로그 계산\n",
    "m_sqrt= cv2.sqrt(v2) # 제곱근 계산\n",
    "m_pow = cv2.pow(v3, 3) # 3의 거듭제곱 계산\n",
    "\n",
    "# 결과 출력\n",
    "print(\"[v1] 형태: %s 원소: %s\" % ( v1.shape, v1))\n",
    "print(\"[v2] 형태: %s 원소:\\n%s\" % ( v2.shape, v2))\n",
    "print(\"[v3] 형태: %s 원소: %s\" % ( v3.shape, v3))\n",
    "print()\n",
    "\n",
    "# 행렬 정보 출력 - OpenCV 결과는 행렬로 반환됨 - 행벡터는 엘벡터로 반환됨\n",
    "print(\"[v1_exp] 자료형: %s 형태: %s\" % ( type(v1_exp), v1_exp.shape))  # 행벡터 인수의 결과\n",
    "print(\"[v2_exp] 자료형: %s 형태: %s\" % ( type(v2_exp), v2_exp.shape))  # 행벡터 인수의 결과\n",
    "print(\"[v3_exp] 자료형: %s 형태: %s\" % ( type(v3_exp), v3_exp.shape))  # 행벡터 인수의 결과\n",
    "print()\n",
    "\n",
    "# 열벡터를 하나의 행에 출력하는 예시 - 행벡터로 변환\n",
    "print(\"[log] =\", v_log.T)\n",
    "print(\"[sqrt] =\", np.ravel(m_sqrt))         \n",
    "print(\"[pow] =\", m_pow.flatten())"
   ]
  },
  {
   "cell_type": "code",
   "execution_count": 15,
   "metadata": {},
   "outputs": [
    {
     "name": "stdout",
     "output_type": "stream",
     "text": [
      "[ 0  1  2  3  4  5  6  7  8  9 10 11]\n",
      "[ 0  1  2  3  4  5  6  7  8  9 10 11]\n"
     ]
    }
   ],
   "source": [
    "# 이런 shape의 넘파이 배열이 있을 때\n",
    "x = np.array([[ 0, 1, 2, 3],\n",
    "        [ 4, 5, 6, 7],\n",
    "        [ 8, 9, 10, 11]])\n",
    "\n",
    "\n",
    "# 옵션 'C'\n",
    "x1 = np.ravel(x, order='C') # default 값\n",
    "print(x1)\n",
    "\n",
    "z = cv2.pow(x, 1)                          # 3의 거듭제곱 계산\n",
    "x2 = z.flatten() # default 값\n",
    "print(x2)\n",
    "# # Out: array([ 0, 1, 2, 3, 4, 5, 6, 7, 8, 9, 10, 11])\n",
    "\n",
    "# # 옵션 'K'\n",
    "# np.ravel(x, order='K')\n",
    "# ...:\n",
    "# # Out: array([ 0, 1, 2, 3, 4, 5, 6, 7, 8, 9, 10, 11])\n",
    "\n",
    "# # 옵션 'F'\n",
    "# np.ravel(x, order='F')\n",
    "# ...:\n",
    "# # Out: array([ 0, 4, 8, 1, 5, 9, 2, 6, 10, 3, 7, 11])\n",
    "# # 3차원 배열일 때 사용 예시\n",
    "\n",
    "# # 이런 배열이 있을 때\n",
    "# x = array([[[ 0, 1],\n",
    "#          [ 2, 3],\n",
    "#          [ 4, 5]],\n",
    "\n",
    "#         [[ 6, 7],\n",
    "#          [ 8, 9],\n",
    "#          [10, 11]]])\n",
    "\n",
    "# # 옵션 'C'\n",
    "# np.ravel(x, order='C')\n",
    "# ...:\n",
    "# # Out: array([ 0, 1, 2, 3, 4, 5, 6, 7, 8, 9, 10, 11])\n",
    "\n",
    "\n",
    "# # x 배열의 축이 바뀌었을 때\n",
    "# x = array([[[ 0, 2, 4],\n",
    "#          [ 1, 3, 5]],\n",
    "\n",
    "#         [[ 6, 8, 10],\n",
    "#          [ 7, 9, 11]]]) # x = x.swapaxes(1, 2)\n",
    "\n",
    "# # 옵션 'K'\n",
    "# np.ravel(x, order='K')\n",
    "# ...:\n",
    "# # Out: array([ 0, 1, 2, 3, 4, 5, 6, 7, 8, 9, 10, 11])"
   ]
  }
 ],
 "metadata": {
  "kernelspec": {
   "display_name": "Python 3",
   "language": "python",
   "name": "python3"
  },
  "language_info": {
   "codemirror_mode": {
    "name": "ipython",
    "version": 3
   },
   "file_extension": ".py",
   "mimetype": "text/x-python",
   "name": "python",
   "nbconvert_exporter": "python",
   "pygments_lexer": "ipython3",
   "version": "3.8.5"
  }
 },
 "nbformat": 4,
 "nbformat_minor": 4
}
