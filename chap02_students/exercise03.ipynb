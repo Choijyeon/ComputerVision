{
 "cells": [
  {
   "cell_type": "code",
   "execution_count": 1,
   "metadata": {},
   "outputs": [],
   "source": [
    "import cv2"
   ]
  },
  {
   "cell_type": "code",
   "execution_count": 3,
   "metadata": {},
   "outputs": [
    {
     "name": "stdout",
     "output_type": "stream",
     "text": [
      "bgr 자료형: <class 'list'> <class 'numpy.ndarray'> <class 'numpy.uint8'>\n",
      "bgr 원소개수: 3\n"
     ]
    }
   ],
   "source": [
    "image = cv2.imread( \"images/color.jpg\", cv2.IMREAD_COLOR)   # 영상 읽기 / color로 불러왔으니 tensor임\n",
    "if image is None: raise Exception(\"영상 파일 읽기 오류 발생\")  # 예외 처리\n",
    "if image.ndim != 3: raise Exception(\"컬러 영상 아님\")\n",
    "    \n",
    "bgr = cv2.split(image)                      # 채널 분리: 컬러영상--> 3채널 분리\n",
    "# blue, green, red = cv2.split(image)\n",
    "\n",
    "print(\"bgr 자료형:\", type(bgr), type(bgr[0]), type(bgr[0][0][0]))\n",
    "# L단계 : 256(0~155) 2**8bit\n",
    "\n",
    "print(\"bgr 원소개수:\", len(bgr))\n",
    "\n",
    "# 각 채널을 윈도우에 띄우기 \n",
    "cv2.imshow(\"image\", image)\n",
    "cv2.imshow(\"Blue channel\" , bgr[0])         # blue 채널 / 여기서는 파란색이 가장 밝음\n",
    "cv2.imshow(\"Green channel\", bgr[1])         # green 채널 / 녹색이 가장 밝음\n",
    "cv2.imshow(\"Red channel\"  , bgr[2])         # red 채널 / 빨간색이 가장 밝게 나옴\n",
    "\n",
    "cv2.waitKey()\n",
    "cv2.destroyAllWindows()"
   ]
  },
  {
   "cell_type": "code",
   "execution_count": null,
   "metadata": {},
   "outputs": [],
   "source": []
  }
 ],
 "metadata": {
  "kernelspec": {
   "display_name": "Python 3",
   "language": "python",
   "name": "python3"
  },
  "language_info": {
   "codemirror_mode": {
    "name": "ipython",
    "version": 3
   },
   "file_extension": ".py",
   "mimetype": "text/x-python",
   "name": "python",
   "nbconvert_exporter": "python",
   "pygments_lexer": "ipython3",
   "version": "3.8.5"
  }
 },
 "nbformat": 4,
 "nbformat_minor": 4
}
