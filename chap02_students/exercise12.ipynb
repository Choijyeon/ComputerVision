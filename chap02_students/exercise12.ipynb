{
 "cells": [
  {
   "cell_type": "code",
   "execution_count": 1,
   "metadata": {},
   "outputs": [],
   "source": [
    "import numpy as np, cv2"
   ]
  },
  {
   "cell_type": "code",
   "execution_count": null,
   "metadata": {},
   "outputs": [
    {
     "name": "stdout",
     "output_type": "stream",
     "text": [
      "sum_value 자료형: <class 'tuple'> <class 'float'>\n",
      "[sum_value] =  (15865577.0, 15880547.0, 16470875.0, 0.0)\n",
      "[mean_value1] =  (132.21314166666667, 132.33789166666668, 137.25729166666667, 0.0)\n",
      "[mean_value2] =  (80.26520000000001, 81.59740000000001, 90.3211, 0.0)\n",
      "\n",
      "mean 자료형: <class 'numpy.ndarray'> <class 'numpy.float64'>\n",
      "[mean] =  [132.21314167 132.33789167 137.25729167]\n",
      "[stddev] =  [73.35044328 68.76754506 63.96477788]\n",
      "\n",
      "[mean2] =  [80.2652 81.5974 90.3211]\n",
      "[stddev2] =  [58.91488326 57.57273064 54.0648388 ]\n"
     ]
    }
   ],
   "source": [
    "image = cv2.imread(\"images/sum_test.jpg\", cv2.IMREAD_COLOR)\n",
    "if image is None: raise Exception(\"영상 파일 읽기 오류 발생\")\n",
    "    \n",
    "mask = np.zeros(image.shape[:2], np.uint8)\n",
    "mask[60:160, 20:120] = 255                      # 관심영역을 지정한 후, 255를 할당\n",
    "\n",
    "sum_value   = cv2.sumElems(image) # 채널별 합 구하기\n",
    "mean_value1 = cv2.mean(image) # 결과 튜플로 반환\n",
    "mean_value2 = cv2.mean(image, mask)\n",
    "\n",
    "print('sum_value 자료형:', type(sum_value), type(sum_value[0]))\n",
    "print(\"[sum_value] = \", sum_value)\n",
    "print(\"[mean_value1] = \", mean_value1)\n",
    "print(\"[mean_value2] = \", mean_value2)\n",
    "print()\n",
    "\n",
    "# 평균과 표준편차 결과 저장\n",
    "mean, stddev = cv2.meanStdDev(image) # 결과를 행렬(numpy array)로 반환\n",
    "mean2, stddev2 = cv2.meanStdDev(image, mask=mask)# 마스크가 255인 영역만 계산\n",
    "print('mean 자료형:', type(mean), type(mean[0][0]))               # 반환 튜플의 원소는 ndarray\n",
    "print(\"[mean] = \"  , mean.flatten())              # 벡터 변환후 출력\n",
    "print(\"[stddev] = \", stddev.flatten())\n",
    "print( )\n",
    "\n",
    "print(\"[mean2] = \",  mean2.flatten())\n",
    "print(\"[stddev2] = \", stddev2.flatten())\n",
    "\n",
    "cv2.imshow(\"image\", image)\n",
    "cv2.imshow(\"mask\", mask)\n",
    "cv2.waitKey(0)\n",
    "cv2.destroyAllWindows()"
   ]
  },
  {
   "cell_type": "code",
   "execution_count": null,
   "metadata": {},
   "outputs": [],
   "source": []
  }
 ],
 "metadata": {
  "kernelspec": {
   "display_name": "Python 3",
   "language": "python",
   "name": "python3"
  },
  "language_info": {
   "codemirror_mode": {
    "name": "ipython",
    "version": 3
   },
   "file_extension": ".py",
   "mimetype": "text/x-python",
   "name": "python",
   "nbconvert_exporter": "python",
   "pygments_lexer": "ipython3",
   "version": "3.8.5"
  }
 },
 "nbformat": 4,
 "nbformat_minor": 4
}
