{
 "cells": [
  {
   "cell_type": "code",
   "execution_count": 2,
   "metadata": {},
   "outputs": [],
   "source": [
    "import numpy as np, cv2"
   ]
  },
  {
   "cell_type": "code",
   "execution_count": 3,
   "metadata": {},
   "outputs": [
    {
     "name": "stdout",
     "output_type": "stream",
     "text": [
      "[m1] = \n",
      "[[70 51 56 30 29]\n",
      " [93 48 33 83 91]\n",
      " [62 61 93 93 60]]\n",
      "\n",
      "[m_sort1] = \n",
      "[[4 3 1 2 0]\n",
      " [2 1 3 4 0]\n",
      " [4 1 0 2 3]]\n",
      "\n",
      "[m_sort2] = \n",
      "[[2 1 1 0 0]\n",
      " [0 0 0 1 2]\n",
      " [1 2 2 2 1]]\n",
      "\n",
      "[m_sort3] = \n",
      "[[2 1 1 0 0]\n",
      " [0 0 0 1 2]\n",
      " [1 2 2 2 1]]\n",
      "\n"
     ]
    }
   ],
   "source": [
    "m = np.random.randint(0,100, 15).reshape(3,5)           # 임의 난수 생성\n",
    "\n",
    "m_sort1 = cv2.sortIdx(m, cv2.SORT_EVERY_ROW) # 행렬 원소의 원본 좌표\n",
    "m_sort2 = cv2.sortIdx(m, cv2.SORT_EVERY_COLUMN)\n",
    "m_sort3 = np.argsort(m, axis=0) # 세로축 정렬\n",
    "\n",
    "print(\"[m1] = \\n%s\\n\" % m)\n",
    "print(\"[m_sort1] = \\n%s\\n\" % m_sort1)\n",
    "print(\"[m_sort2] = \\n%s\\n\" % m_sort2)\n",
    "print(\"[m_sort3] = \\n%s\\n\" % m_sort3)"
   ]
  }
 ],
 "metadata": {
  "kernelspec": {
   "display_name": "Python 3",
   "language": "python",
   "name": "python3"
  },
  "language_info": {
   "codemirror_mode": {
    "name": "ipython",
    "version": 3
   },
   "file_extension": ".py",
   "mimetype": "text/x-python",
   "name": "python",
   "nbconvert_exporter": "python",
   "pygments_lexer": "ipython3",
   "version": "3.8.5"
  }
 },
 "nbformat": 4,
 "nbformat_minor": 4
}
