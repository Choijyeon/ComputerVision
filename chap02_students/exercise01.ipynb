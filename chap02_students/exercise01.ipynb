{
 "cells": [
  {
   "cell_type": "code",
   "execution_count": 1,
   "metadata": {},
   "outputs": [],
   "source": [
    "import cv2\n",
    "import numpy as np\n",
    "\n",
    "# openCV는 RGB순서로 불러오는게 아니라 BGR순서로 불러옴"
   ]
  },
  {
   "cell_type": "code",
   "execution_count": 3,
   "metadata": {
    "scrolled": true
   },
   "outputs": [],
   "source": [
    "# 이미지 가져오기/확인\n",
    "image = cv2.imread(\"images/flip_test.jpg\", cv2.IMREAD_COLOR)\n",
    "if image is None: raise Exception(\"영상 파일 읽기 오류 발생\") # 예외 처리\n",
    "\n",
    "# 그림 반전 : flip\n",
    "x_axis = cv2.flip(image,0) # x축 기준 상하 뒤집기 (대상(이미지), )\n",
    "y_axis = cv2.flip(image,1)# y축 기준 좌우 뒤집기\n",
    "xy_axis = cv2.flip(image,-1) # x-y축 기준 좌우 뒤집기\n",
    "rep_image = cv2.repeat(image,1,2) # 반복 복사 / (대상, 행으로 몇 개, 열로 몇 개)\n",
    "trans_image = cv2.transpose(image) # 행렬 전치(transpose) / 90도 회전\n",
    "\n",
    "## 각 행렬을 영상으로 표시\n",
    "titles = ['image', 'x_axis', 'y_axis','xy_axis','rep_image','trans_image']\n",
    "for title in titles:\n",
    "    cv2.imshow(title, eval(title)) # (불러올 이름, 대상)\n",
    "cv2.waitKey(0) # 별도 뭐 하기 전까지 창을 띄워놔라\n",
    "cv2.destroyAllWindows() # 꼭 넣어야함.띄워진 창 없애라는 것."
   ]
  },
  {
   "cell_type": "code",
   "execution_count": 4,
   "metadata": {},
   "outputs": [],
   "source": [
    "eval?"
   ]
  },
  {
   "cell_type": "code",
   "execution_count": null,
   "metadata": {},
   "outputs": [],
   "source": []
  }
 ],
 "metadata": {
  "kernelspec": {
   "display_name": "Python 3",
   "language": "python",
   "name": "python3"
  },
  "language_info": {
   "codemirror_mode": {
    "name": "ipython",
    "version": 3
   },
   "file_extension": ".py",
   "mimetype": "text/x-python",
   "name": "python",
   "nbconvert_exporter": "python",
   "pygments_lexer": "ipython3",
   "version": "3.8.5"
  }
 },
 "nbformat": 4,
 "nbformat_minor": 4
}
