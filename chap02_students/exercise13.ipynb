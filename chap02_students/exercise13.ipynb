{
 "cells": [
  {
   "cell_type": "code",
   "execution_count": 1,
   "metadata": {},
   "outputs": [],
   "source": [
    "import numpy as np, cv2"
   ]
  },
  {
   "cell_type": "code",
   "execution_count": 2,
   "metadata": {},
   "outputs": [
    {
     "name": "stdout",
     "output_type": "stream",
     "text": [
      "[m] = \n",
      "[[16 40 60 58 85]\n",
      " [17  1 62 65 59]\n",
      " [58 15 44 29  0]]\n",
      "\n",
      "[sort1] = \n",
      "[[16 40 58 60 85]\n",
      " [ 1 17 59 62 65]\n",
      " [ 0 15 29 44 58]]\n",
      "\n",
      "[sort2] = \n",
      "[[16  1 44 29  0]\n",
      " [17 15 60 58 59]\n",
      " [58 40 62 65 85]]\n",
      "\n",
      "[sort3] = \n",
      "[[85 60 58 40 16]\n",
      " [65 62 59 17  1]\n",
      " [58 44 29 15  0]]\n",
      "\n",
      "[sort4] = \n",
      "[[16 40 58 60 85]\n",
      " [ 1 17 59 62 65]\n",
      " [ 0 15 29 44 58]]\n",
      "\n",
      "[sort5] = \n",
      "[[16  1 44 29  0]\n",
      " [17 15 60 58 59]\n",
      " [58 40 62 65 85]]\n",
      "\n",
      "[sort6] = \n",
      "[[85 60 58 40 16]\n",
      " [65 62 59 17  1]\n",
      " [58 44 29 15  0]]\n",
      "\n"
     ]
    }
   ],
   "source": [
    "m = np.random.randint(0,100, 15).reshape(3,5)           # 임의 난수 생성\n",
    "# 행렬 원소 정렬\n",
    "sort1 = cv2.sort(m, cv2.SORT_EVERY_ROW) # 행단위 오름차순\n",
    "sort2 = cv2.sort(m, cv2.SORT_EVERY_COLUMN) # 열단위(세로) 오름차순\n",
    "sort3 = cv2.sort(m, cv2.SORT_EVERY_ROW+cv2.SORT_DESCENDING) # 행단위(가로) 내림차순\n",
    "sort4 = np.sort(m, axis=1) # 세로축 정렬\n",
    "sort5 = np.sort(m, axis=0) # 가로축 정렬\n",
    "sort6 = np.sort(m, axis=1)[:, ::-1] # 가로축 내림차순 정렬\n",
    "\n",
    "titles= ['m','sort1','sort2','sort3','sort4','sort5', 'sort6']\n",
    "for title in titles:\n",
    "        print(\"[%s] = \\n%s\\n\" %(title, eval(title)))"
   ]
  },
  {
   "cell_type": "code",
   "execution_count": null,
   "metadata": {},
   "outputs": [],
   "source": []
  }
 ],
 "metadata": {
  "kernelspec": {
   "display_name": "Python 3",
   "language": "python",
   "name": "python3"
  },
  "language_info": {
   "codemirror_mode": {
    "name": "ipython",
    "version": 3
   },
   "file_extension": ".py",
   "mimetype": "text/x-python",
   "name": "python",
   "nbconvert_exporter": "python",
   "pygments_lexer": "ipython3",
   "version": "3.8.5"
  }
 },
 "nbformat": 4,
 "nbformat_minor": 4
}
