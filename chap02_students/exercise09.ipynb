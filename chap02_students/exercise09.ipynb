{
 "cells": [
  {
   "cell_type": "code",
   "execution_count": 2,
   "metadata": {},
   "outputs": [],
   "source": [
    "import numpy as np, cv2"
   ]
  },
  {
   "cell_type": "code",
   "execution_count": null,
   "metadata": {},
   "outputs": [
    {
     "name": "stdout",
     "output_type": "stream",
     "text": [
      "[dif_img1(roi) uint8] = \n",
      "[[ 0  0  0  0  9 12  7]\n",
      " [ 0  0  0  0  4  9  3]\n",
      " [ 0  0  0 15  0  4  0]]\n",
      "\n",
      "[dif_img2(roi) int16]  = \n",
      "[[-100 -106  -80   -6    9   12    7]\n",
      " [-105 -109  -72   -4    4    9    3]\n",
      " [-106 -109  -58   15   -1    4    0]]\n",
      "\n",
      "[abs_dif1(roi)] = \n",
      "[[100 106  80   6   9  12   7]\n",
      " [105 109  72   4   4   9   3]\n",
      " [106 109  58  15   1   4   0]]\n",
      "\n",
      "[abs_dif2(roi)] = \n",
      "[[100 106  80   6   9  12   7]\n",
      " [105 109  72   4   4   9   3]\n",
      " [106 109  58  15   1   4   0]]\n",
      "\n"
     ]
    }
   ],
   "source": [
    "image1 = cv2.imread(\"images/abs_test1.jpg\", cv2.IMREAD_GRAYSCALE) # 명암도 영상 읽기\n",
    "image2 = cv2.imread(\"images/abs_test2.jpg\", cv2.IMREAD_GRAYSCALE)\n",
    "if image1 is None or image2 is None: raise Exception(\"영상 파일 읽기 오류 발생\")\n",
    "\n",
    "dif_img1 = cv2.subtract(image1, image2) # 차분 연산\n",
    "dif_img2 = cv2.subtract(np.int16(image1), np.int16(image2))# 음수 보전 위해\n",
    "abs_dif1 = np.absolute(dif_img2).astype('uint8')\n",
    "abs_dif2 = cv2.absdiff(image1, image2) # 차분 절댓값 계산\n",
    "\n",
    "x, y, w, h = 100, 100, 7, 3\n",
    "print(\"[dif_img1(roi) uint8] = \\n%s\\n\" % dif_img1[y:y+h, x:x+w])\n",
    "print(\"[dif_img2(roi) int16]  = \\n%s\\n\"  % dif_img2[y:y+h, x:x+w])\n",
    "print(\"[abs_dif1(roi)] = \\n%s\\n\" % abs_dif1[y:y+h, x:x+w])\n",
    "print(\"[abs_dif2(roi)] = \\n%s\\n\" % abs_dif2[y:y+h, x:x+w])\n",
    "\n",
    "titles = ['image1', 'image2', 'dif_img1', 'abs_dif1','abs_dif2']\n",
    "for title in titles:\n",
    "    cv2.imshow(title, eval(title))\n",
    "cv2.waitKey(0)\n",
    "cv2.destroyAllWindows()"
   ]
  },
  {
   "cell_type": "code",
   "execution_count": null,
   "metadata": {},
   "outputs": [],
   "source": []
  }
 ],
 "metadata": {
  "kernelspec": {
   "display_name": "Python 3",
   "language": "python",
   "name": "python3"
  },
  "language_info": {
   "codemirror_mode": {
    "name": "ipython",
    "version": 3
   },
   "file_extension": ".py",
   "mimetype": "text/x-python",
   "name": "python",
   "nbconvert_exporter": "python",
   "pygments_lexer": "ipython3",
   "version": "3.8.5"
  }
 },
 "nbformat": 4,
 "nbformat_minor": 4
}
