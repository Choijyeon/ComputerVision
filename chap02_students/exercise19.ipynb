{
 "cells": [
  {
   "cell_type": "code",
   "execution_count": 1,
   "metadata": {},
   "outputs": [],
   "source": [
    "import numpy as np, cv2"
   ]
  },
  {
   "cell_type": "code",
   "execution_count": 2,
   "metadata": {},
   "outputs": [
    {
     "name": "stdout",
     "output_type": "stream",
     "text": [
      "[inv] = \n",
      "[[ 0.15079366 -0.02380952 -0.0952381 ]\n",
      " [ 0.06746032  0.22619048 -0.0952381 ]\n",
      " [ 0.09126984  0.01190476  0.04761905]]\n",
      "\n",
      "[dst1] = [2.5238097 2.0238097 4.7380953]\n",
      "[dst2] = [2.5238097 2.0238097 4.7380953]\n",
      "[dst3] = [2.5238094 2.0238094 4.7380953]\n"
     ]
    }
   ],
   "source": [
    "data = [ 3, 0, 6, -3, 4, 2, -5,-1, 9]        # 1차원 리스트 생성\n",
    "m1 = np.array(data, np.float32).reshape(3,3)\n",
    "m2 = np.array([36, 10, 28], np.float32)\n",
    "\n",
    "ret, inv = cv2.invert(m1, cv2.DECOMP_LU)                # 역행렬 계산\n",
    "if ret:\n",
    "    dst1 = inv.dot(m2)                                  # numpy 제공 행렬곱 함수\n",
    "    dst2 = cv2.gemm(inv, m2, 1, None, 1)                # OpenC 제공 행렬곱 함수\n",
    "    ret, dst3 = cv2.solve(m1, m2, cv2.DECOMP_LU)        # 연립방정식 풀이\n",
    "\n",
    "    print(\"[inv] = \\n%s\\n\" % inv)\n",
    "    print(\"[dst1] =\", dst1.flatten())                   # 다행 1열 행렬을 한행에 표시\n",
    "    print(\"[dst2] =\", dst2.flatten())                   # 행렬을 벡터로 변환\n",
    "    print(\"[dst3] =\", dst3.flatten())                   # 행렬을 벡터로 변환\n",
    "else:\n",
    "    print(\"역행렬이 존재하지 않습니다.\")"
   ]
  }
 ],
 "metadata": {
  "kernelspec": {
   "display_name": "Python 3",
   "language": "python",
   "name": "python3"
  },
  "language_info": {
   "codemirror_mode": {
    "name": "ipython",
    "version": 3
   },
   "file_extension": ".py",
   "mimetype": "text/x-python",
   "name": "python",
   "nbconvert_exporter": "python",
   "pygments_lexer": "ipython3",
   "version": "3.7.6"
  }
 },
 "nbformat": 4,
 "nbformat_minor": 4
}
