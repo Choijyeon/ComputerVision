{
 "cells": [
  {
   "cell_type": "code",
   "execution_count": 1,
   "metadata": {},
   "outputs": [],
   "source": [
    "import numpy as np, cv2\n",
    "import matplotlib.pyplot as plt"
   ]
  },
  {
   "cell_type": "code",
   "execution_count": null,
   "metadata": {},
   "outputs": [],
   "source": [
    "image = cv2.imread(\"images/bit_test.jpg\", cv2.IMREAD_COLOR)     # 원본 영상 읽기\n",
    "logo  = cv2.imread(\"images/logo.jpg\", cv2.IMREAD_COLOR)         # 로고 영상 읽기\n",
    "if image is None or logo is None: raise Exception(\"영상 파일 읽기 오류 \")\n",
    "    \n",
    "masks = cv2.threshold(logo, 220, 255, cv2.THRESH_BINARY)[1]# 로고 영상 이진화\n",
    "masks = cv2.split(masks)\n",
    "\n",
    "fg_pass_mask = cv2.bitwise_or(masks[0], masks[1]) # 전경 통과 마스크\n",
    "fg_pass_mask = cv2.bitwise_or(masks[2], fg_pass_mask)\n",
    "bg_pass_mask = cv2.bitwise_not(fg_pass_mask) # 배경 통과 마스크\n",
    "\n",
    "(H, W), (h, w) = image.shape[:2], logo.shape[:2] # 로고 영상 크기\n",
    "x, y = (W-w)//2, (H - h)//2\n",
    "roi = image[y:y+h, x:x+w] # 관심 영역(roi) 지정\n",
    "\n",
    "# 행렬 논리곱과 마스킹을 이용한 관심 영역 복사\n",
    "foreground = cv2.bitwise_and(logo, logo, mask=fg_pass_mask) # 로고의 전경 복사\n",
    "background = cv2.bitwise_and(roi, roi, mask=bg_pass_mask) # roi에 원본배경만 복사\n",
    "\n",
    "dst = cv2.add(background, foreground) # 로고 전경과 원본 배경 간 합성\n",
    "image[y:y+h, x:x+w] = dst # 합성 영상을 원본에 복사\n",
    "\n",
    "cv2.imshow(\"logo\", fg_pass_mask)\n",
    "cv2.imshow(\"background\", background)\n",
    "cv2.imshow(\"foreground\", foreground)\n",
    "cv2.imshow(\"dst\", dst)\n",
    "cv2.imshow(\"image\", image)\n",
    "cv2.waitKey()\n",
    "cv2.destroyAllWindows()"
   ]
  },
  {
   "cell_type": "code",
   "execution_count": null,
   "metadata": {},
   "outputs": [],
   "source": [
    "print(np.sum(hist_a))\n",
    "print(logo.shape)\n",
    "print(308*250)"
   ]
  },
  {
   "cell_type": "code",
   "execution_count": null,
   "metadata": {},
   "outputs": [],
   "source": []
  }
 ],
 "metadata": {
  "kernelspec": {
   "display_name": "Python 3",
   "language": "python",
   "name": "python3"
  },
  "language_info": {
   "codemirror_mode": {
    "name": "ipython",
    "version": 3
   },
   "file_extension": ".py",
   "mimetype": "text/x-python",
   "name": "python",
   "nbconvert_exporter": "python",
   "pygments_lexer": "ipython3",
   "version": "3.8.5"
  }
 },
 "nbformat": 4,
 "nbformat_minor": 4
}
