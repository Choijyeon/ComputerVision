{
 "cells": [
  {
   "cell_type": "code",
   "execution_count": 4,
   "metadata": {},
   "outputs": [],
   "source": [
    "import numpy as np, cv2"
   ]
  },
  {
   "cell_type": "code",
   "execution_count": 6,
   "metadata": {},
   "outputs": [
    {
     "name": "stdout",
     "output_type": "stream",
     "text": [
      "[src1] = \n",
      "[[1. 2. 3.]\n",
      " [1. 2. 3.]]\n",
      "\n",
      "[src1] = \n",
      "[[1. 2. 3.]\n",
      " [1. 2. 3.]]\n",
      "\n",
      "[src1] = \n",
      "[[1. 2. 3.]\n",
      " [1. 2. 3.]]\n",
      "\n",
      "[dst1] = \n",
      "[[ 5.  7.  9.]\n",
      " [10. 14. 18.]\n",
      " [15. 21. 27.]]\n",
      "\n",
      "[dst2] = \n",
      "[[14. 32.]\n",
      " [14. 32.]]\n",
      "\n",
      "[dst3] = \n",
      "[[ 6. 12.]\n",
      " [ 6. 12.]]\n",
      "\n"
     ]
    }
   ],
   "source": [
    "src1 = np.array([1, 2, 3, 1, 2, 3], np.float32).reshape(2, 3) # 2x3 행렬 선언\n",
    "src2 = np.array([1, 2, 3, 4, 5, 6], np.float32).reshape(2, 3)\n",
    "src3 = np.array([1, 2, 1, 2, 1, 2], np.float32).reshape(3, 2) # 3x2 행렬 선언\n",
    "alpha, beta = 1.0, 1.0\n",
    "\n",
    "dst1 = cv2.gemm(src1, src2, alpha, None, beta, flags=cv2.GEMM_1_T)\n",
    "dst2 = cv2.gemm(src1, src2, alpha, None, beta, flags=cv2.GEMM_2_T)\n",
    "dst3 = cv2.gemm(src1, src3, alpha, None, beta)\n",
    "\n",
    "titles = ['src1','src1','src1','dst1','dst2','dst3']\n",
    "for title in titles:\n",
    "    print(\"[%s] = \\n%s\\n\" % (title, eval(title)))"
   ]
  },
  {
   "cell_type": "code",
   "execution_count": null,
   "metadata": {},
   "outputs": [],
   "source": []
  }
 ],
 "metadata": {
  "kernelspec": {
   "display_name": "Python 3",
   "language": "python",
   "name": "python3"
  },
  "language_info": {
   "codemirror_mode": {
    "name": "ipython",
    "version": 3
   },
   "file_extension": ".py",
   "mimetype": "text/x-python",
   "name": "python",
   "nbconvert_exporter": "python",
   "pygments_lexer": "ipython3",
   "version": "3.7.6"
  }
 },
 "nbformat": 4,
 "nbformat_minor": 4
}
