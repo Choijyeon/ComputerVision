{
 "cells": [
  {
   "cell_type": "code",
   "execution_count": 1,
   "metadata": {},
   "outputs": [],
   "source": [
    "import numpy as np, cv2"
   ]
  },
  {
   "cell_type": "code",
   "execution_count": 2,
   "metadata": {},
   "outputs": [
    {
     "name": "stdout",
     "output_type": "stream",
     "text": [
      "[m1] = \n",
      "[[22. 60. 72. 77. 42.]\n",
      " [54. 90. 83. 81. 47.]\n",
      " [ 6. 37. 95. 98.  2.]]\n",
      "\n",
      "[m_reduce_sum] = [ 82. 187. 250. 256.  91.]\n",
      "[m_reduce_avg] = [54.6 71.  47.6]\n",
      "[m_reduce_max] = [54. 90. 95. 98. 47.]\n",
      "[m_reduce_min] = [22. 47.  2.]\n"
     ]
    }
   ],
   "source": [
    "m = np.random.rand(3,5) * 1000//10\n",
    "\n",
    "reduce_sum = cv2.reduce(m, dim=0, rtype=cv2.REDUCE_SUM) # 0 - 열방향 축소\n",
    "reduce_avg = cv2.reduce(m, dim=1, rtype=cv2.REDUCE_AVG) # 1 - 행방향 축소\n",
    "reduce_max = cv2.reduce(m, dim=0, rtype=cv2.REDUCE_MAX)\n",
    "reduce_min = cv2.reduce(m, dim=1, rtype=cv2.REDUCE_MIN)\n",
    "\n",
    "print(\"[m1] = \\n%s\\n\" %m)\n",
    "print(\"[m_reduce_sum] =\", reduce_sum.flatten())\n",
    "print(\"[m_reduce_avg] =\", reduce_avg.flatten())\n",
    "print(\"[m_reduce_max] =\", reduce_max.flatten())\n",
    "print(\"[m_reduce_min] =\", reduce_min.flatten())"
   ]
  }
 ],
 "metadata": {
  "kernelspec": {
   "display_name": "Python 3",
   "language": "python",
   "name": "python3"
  },
  "language_info": {
   "codemirror_mode": {
    "name": "ipython",
    "version": 3
   },
   "file_extension": ".py",
   "mimetype": "text/x-python",
   "name": "python",
   "nbconvert_exporter": "python",
   "pygments_lexer": "ipython3",
   "version": "3.8.5"
  }
 },
 "nbformat": 4,
 "nbformat_minor": 4
}
