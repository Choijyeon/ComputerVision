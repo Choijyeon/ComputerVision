{
 "cells": [
  {
   "cell_type": "code",
   "execution_count": 2,
   "metadata": {},
   "outputs": [],
   "source": [
    "import numpy as np, cv2"
   ]
  },
  {
   "cell_type": "code",
   "execution_count": null,
   "metadata": {},
   "outputs": [],
   "source": [
    "image1 = np.zeros((300, 300), np.uint8) # 300행, 300열 검은색 영상 생성\n",
    "image2 = image1.copy()\n",
    "\n",
    "h, w = image1.shape[:2]\n",
    "cx,cy  = w//2, h//2\n",
    "cv2.circle(image1, (cx,cy), 100, 255, -1) # 중심에 원 그리기\n",
    "cv2.rectangle(image2, (0,0, cx, h), 255, -1)\n",
    "\n",
    "image3 = cv2.bitwise_or(image1, image2)# 원소 간 논리합\n",
    "image4 = cv2.bitwise_and(image1, image2)# 원소 간 논리곱\n",
    "image5 = cv2.bitwise_xor(image1, image2)# 원소 간 배타적 논리합\n",
    "image6 = cv2.bitwise_not(image1)# 행렬 반전\n",
    "\n",
    "cv2.imshow(\"image1\", image1);\n",
    "cv2.imshow(\"image2\", image2)\n",
    "cv2.imshow(\"bitwise_or\", image3);\n",
    "cv2.imshow(\"bitwise_and\", image4)\n",
    "cv2.imshow(\"bitwise_xor\", image5);\n",
    "cv2.imshow(\"bitwise_not\", image6)\n",
    "cv2.waitKey(0)\n",
    "cv2.destroyAllWindows()"
   ]
  },
  {
   "cell_type": "code",
   "execution_count": null,
   "metadata": {},
   "outputs": [],
   "source": []
  }
 ],
 "metadata": {
  "kernelspec": {
   "display_name": "Python 3",
   "language": "python",
   "name": "python3"
  },
  "language_info": {
   "codemirror_mode": {
    "name": "ipython",
    "version": 3
   },
   "file_extension": ".py",
   "mimetype": "text/x-python",
   "name": "python",
   "nbconvert_exporter": "python",
   "pygments_lexer": "ipython3",
   "version": "3.8.5"
  }
 },
 "nbformat": 4,
 "nbformat_minor": 4
}
