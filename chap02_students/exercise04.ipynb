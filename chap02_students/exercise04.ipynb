{
 "cells": [
  {
   "cell_type": "code",
   "execution_count": 3,
   "metadata": {},
   "outputs": [],
   "source": [
    "import numpy as np\n",
    "import cv2"
   ]
  },
  {
   "cell_type": "code",
   "execution_count": 4,
   "metadata": {},
   "outputs": [
    {
     "name": "stdout",
     "output_type": "stream",
     "text": [
      "[[0 0 0 1 1 1]\n",
      " [0 0 0 1 1 1]\n",
      " [0 0 0 1 1 1]]\n",
      "[[60 60 60 60 60 60]\n",
      " [60 60 60 60 60 60]\n",
      " [60 60 60 60 60 60]]\n",
      "[[ 0  0  0 60 60 60]\n",
      " [ 0  0  0 60 60 60]\n",
      " [ 0  0  0 60 60 60]]\n",
      "[[0 0 0 0 0 0]\n",
      " [0 0 0 0 0 0]\n",
      " [0 0 0 0 0 0]]\n",
      "[m1] = \n",
      "[[10. 10. 10. 10. 10. 10.]\n",
      " [10. 10. 10. 10. 10. 10.]\n",
      " [10. 10. 10. 10. 10. 10.]] \n",
      "\n",
      "[m2] = \n",
      "[[50. 50. 50. 50. 50. 50.]\n",
      " [50. 50. 50. 50. 50. 50.]\n",
      " [50. 50. 50. 50. 50. 50.]] \n",
      "\n",
      "[m_mask] = \n",
      "[[0 0 0 1 1 1]\n",
      " [0 0 0 1 1 1]\n",
      " [0 0 0 1 1 1]] \n",
      "\n",
      "[m_add1] = \n",
      "[[60 60 60 60 60 60]\n",
      " [60 60 60 60 60 60]\n",
      " [60 60 60 60 60 60]] \n",
      "\n",
      "[m_add2] = \n",
      "[[ 0  0  0 60 60 60]\n",
      " [ 0  0  0 60 60 60]\n",
      " [ 0  0  0 60 60 60]] \n",
      "\n",
      "[m_div1] = \n",
      "[[0 0 0 0 0 0]\n",
      " [0 0 0 0 0 0]\n",
      " [0 0 0 0 0 0]] \n",
      "\n",
      "[m_div2] = \n",
      "[[0.2 0.2 0.2 0.2 0.2 0.2]\n",
      " [0.2 0.2 0.2 0.2 0.2 0.2]\n",
      " [0.2 0.2 0.2 0.2 0.2 0.2]] \n",
      "\n"
     ]
    }
   ],
   "source": [
    "m1 = np.full((3, 6), 10, np.uint8)# 단일 채널 생성 및 초기화\n",
    "m2 = np.full((3, 6), 50, np.uint8)\n",
    "m_mask = np.zeros(m1.shape, np.uint8)# 마스크 생성(m1크기로 생성)\n",
    "m_mask[:,3: ] = 1# 관심 영역을 지정한 후, 1을 할당 / 모든 행을 포함하는데 열은 3부터 끝까지\n",
    "print(m_mask)\n",
    "\n",
    "m_add1 = cv2.add(m1, m2) # 행렬 덧셈\n",
    "m_add2 = cv2.add(m1, m2, mask=m_mask)# 관심 영역만 덧셈 수행\n",
    "\n",
    "print(m_add1)\n",
    "print(m_add2)\n",
    "\n",
    "# 행렬 나눗셈 수행\n",
    "m_div1 = cv2.divide(m1, m2)\n",
    "print(m_div1)\n",
    "m1 = m1.astype(np.float32) # 형변환 - 소수 부분 보존(위에 uint8있으니까 0 나옴 -> 실수형으로 바꿔주자)\n",
    "m2 = np.float32(m2) # m2.astype(np.float32)와 똑같음\n",
    "m_div2 = cv2.divide(m1, m2)\n",
    "\n",
    "titles = ['m1', 'm2', 'm_mask','m_add1','m_add2','m_div1', 'm_div2']\n",
    "for title in titles:\n",
    "    print(\"[%s] = \\n%s \\n\" % (title, eval(title)))"
   ]
  },
  {
   "cell_type": "code",
   "execution_count": null,
   "metadata": {},
   "outputs": [],
   "source": []
  }
 ],
 "metadata": {
  "kernelspec": {
   "display_name": "Python 3",
   "language": "python",
   "name": "python3"
  },
  "language_info": {
   "codemirror_mode": {
    "name": "ipython",
    "version": 3
   },
   "file_extension": ".py",
   "mimetype": "text/x-python",
   "name": "python",
   "nbconvert_exporter": "python",
   "pygments_lexer": "ipython3",
   "version": "3.8.5"
  }
 },
 "nbformat": 4,
 "nbformat_minor": 4
}
