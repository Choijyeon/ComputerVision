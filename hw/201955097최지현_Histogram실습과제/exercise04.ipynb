{
 "cells": [
  {
   "cell_type": "code",
   "execution_count": 2,
   "metadata": {},
   "outputs": [],
   "source": [
    "import cv2\n",
    "import numpy as np"
   ]
  },
  {
   "cell_type": "code",
   "execution_count": 3,
   "metadata": {},
   "outputs": [],
   "source": [
    "L = 16"
   ]
  },
  {
   "cell_type": "code",
   "execution_count": 4,
   "metadata": {
    "scrolled": true
   },
   "outputs": [
    {
     "name": "stdout",
     "output_type": "stream",
     "text": [
      "[[ 2  2  5  5  5]\n",
      " [ 5  8  8  8  8]\n",
      " [11 11 11 11 16]\n",
      " [16 16 16 16 16]]\n"
     ]
    }
   ],
   "source": [
    "# 1. image : using “np.array([[ ]])”\n",
    "image = np.array([[0,0,10,10,10],\n",
    "                  [10,11,11,11,11],\n",
    "                  [12,12,12,12,13],\n",
    "                  [13,13,13,13,13]], dtype=np.uint8)\n",
    "h,w = image.shape\n",
    "\n",
    "# 2. histogram : using “cv2.calcHist”\n",
    "hist = cv2.calcHist(images = [image], channels=[0], mask=None, histSize =[L], ranges=[0,L-1])\n",
    "\n",
    "# 3. cumulative sum vector : using “np.cumsum”\n",
    "cdf = np.cumsum(hist)\n",
    "\n",
    "# 4. normalization(cdf_norm): divide by “max of cdf”\n",
    "cdf_normalized = cdf / np.max(cdf)\n",
    "\n",
    "# 5. mapping table : using “np.round”\n",
    "table = np.round(cdf_normalized * L)\n",
    "\n",
    "# 6. mapping(output) : using “nested loop”\n",
    "output = np.zeros((h,w))\n",
    "for i in range(0,h):\n",
    "    for j in range(0,w):\n",
    "        output[i,j] = table[image[i,j]]\n",
    "        output = np.uint8(output)\n",
    "                               \n",
    "# 7. check the result : using “print\"\n",
    "print(output)"
   ]
  }
 ],
 "metadata": {
  "kernelspec": {
   "display_name": "Python 3",
   "language": "python",
   "name": "python3"
  },
  "language_info": {
   "codemirror_mode": {
    "name": "ipython",
    "version": 3
   },
   "file_extension": ".py",
   "mimetype": "text/x-python",
   "name": "python",
   "nbconvert_exporter": "python",
   "pygments_lexer": "ipython3",
   "version": "3.8.5"
  }
 },
 "nbformat": 4,
 "nbformat_minor": 4
}
