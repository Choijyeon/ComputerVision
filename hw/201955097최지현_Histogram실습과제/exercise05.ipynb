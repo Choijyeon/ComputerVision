{
 "cells": [
  {
   "cell_type": "code",
   "execution_count": 17,
   "metadata": {},
   "outputs": [],
   "source": [
    "import cv2\n",
    "import numpy as np\n",
    "import matplotlib.pyplot as plt"
   ]
  },
  {
   "cell_type": "code",
   "execution_count": 18,
   "metadata": {},
   "outputs": [],
   "source": [
    "L = 256"
   ]
  },
  {
   "cell_type": "code",
   "execution_count": 22,
   "metadata": {},
   "outputs": [
    {
     "data": {
      "text/plain": [
       "(0.0, 15000.0)"
      ]
     },
     "execution_count": 22,
     "metadata": {},
     "output_type": "execute_result"
    },
    {
     "data": {
      "image/png": "[encoded data removed]",
      "text/plain": [
       "<Figure size 432x288 with 2 Axes>"
      ]
     },
     "metadata": {
      "needs_background": "light"
     },
     "output_type": "display_data"
    }
   ],
   "source": [
    "# 1. image : using “cv2.imread”\n",
    "image = cv2.imread(\"images/Lenna.png\", cv2.IMREAD_GRAYSCALE);\n",
    "h,w = image.shape\n",
    "\n",
    "# 2. histogram : using “cv2.calcHist”\n",
    "hist = cv2.calcHist(images = [image], channels=[0], mask=None, histSize =[L], ranges=[0,L-1])\n",
    "\n",
    "# 3. cumulative sum vector : using “np.cumsum”\n",
    "cdf = np.cumsum(hist)\n",
    "\n",
    "# 4. normalization(cdf_norm): divide by “max of cdf”\n",
    "cdf_normalized = cdf / np.max(cdf)\n",
    "\n",
    "# 5. mapping table : using “np.round”\n",
    "table = np.round(cdf_normalized * L)\n",
    "\n",
    "# 6. mapping(output) : using “nested loop”\n",
    "output = np.zeros((h,w))\n",
    "for i in range(0,h):\n",
    "    for j in range(0,w):\n",
    "        output[i,j] = table[image[i,j]]\n",
    "        output = np.uint8(output)\n",
    "        \n",
    "# 7. check the result : using “cv.imshow”\n",
    "cv2.imshow(\"Input image\", image);\n",
    "cv2.imshow(\"histogram equalized image\", output);\n",
    "cv2.waitKey(0)\n",
    "cv2.destroyAllWindows()\n",
    "\n",
    "# 8. check the histogram : using “plt.hist and ravel(or flatten)”\n",
    "plt.subplot(1,2,1); plt.hist(np.ravel(image)); plt.ylim([0, 15000])\n",
    "plt.subplot(1,2,2); plt.hist(np.ravel(output)); plt.ylim([0, 15000])"
   ]
  }
 ],
 "metadata": {
  "kernelspec": {
   "display_name": "Python 3",
   "language": "python",
   "name": "python3"
  },
  "language_info": {
   "codemirror_mode": {
    "name": "ipython",
    "version": 3
   },
   "file_extension": ".py",
   "mimetype": "text/x-python",
   "name": "python",
   "nbconvert_exporter": "python",
   "pygments_lexer": "ipython3",
   "version": "3.8.5"
  }
 },
 "nbformat": 4,
 "nbformat_minor": 4
}
