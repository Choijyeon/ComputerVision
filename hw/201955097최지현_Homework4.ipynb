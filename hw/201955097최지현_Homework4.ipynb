{
 "cells": [
  {
   "cell_type": "code",
   "execution_count": 125,
   "metadata": {},
   "outputs": [],
   "source": [
    "# Importants\n",
    "# Consider “within class variance(𝑆_𝑊 )”\n",
    "# Candidate thresholds range from 0 to L-1\n",
    "# If the class contains no data,\n",
    "# mean and variance → 0"
   ]
  },
  {
   "cell_type": "code",
   "execution_count": 126,
   "metadata": {},
   "outputs": [],
   "source": [
    "import cv2\n",
    "import numpy as np"
   ]
  },
  {
   "cell_type": "code",
   "execution_count": 127,
   "metadata": {},
   "outputs": [],
   "source": [
    "# 0. intensity level\n",
    "L = 16"
   ]
  },
  {
   "cell_type": "code",
   "execution_count": 148,
   "metadata": {},
   "outputs": [],
   "source": [
    "# 1. image(image) : using “np.array([[ ]]) with np.uint8”\n",
    "image = np.array([[2,3,2,11,5,9],[5,2,10,1,2,9],[14,10,9,0,9,6],[3,0,14,11,3,1],[6,1,8,6,9,7],[10,13,11,9,13,12],[6,1,11,5,0,2],[15,10,11,11,12,13],[2,3,0,13,5,4]], np.uint8)\n",
    "h,w = image.shape\n",
    "N = h*w "
   ]
  },
  {
   "cell_type": "code",
   "execution_count": 129,
   "metadata": {},
   "outputs": [],
   "source": [
    "# 2. histogram(hist) : using “cv2.calcHist”\n",
    "hist =  cv2.calcHist([image],[0],None,[L],[0,L])"
   ]
  },
  {
   "cell_type": "code",
   "execution_count": 152,
   "metadata": {},
   "outputs": [],
   "source": [
    "# 3. For each threshold 𝑘, compute 𝑆_𝑊  : using “loop”\n",
    "# save each 𝑆_𝑊 value in vector(within_vec) \n",
    "\n",
    "Sw_vec = np.array([])\n",
    "\n",
    "for j in range(0,L):\n",
    "    threshold = j\n",
    "\n",
    "    S1, S2, Sw = 0, 0, 0 # initial within class variance\n",
    "    w1, w2 = 0, 0 # initial weights\n",
    "    sum1, sum2 = 0, 0 # initial within class sum\n",
    "    cnt1, cnt2 = 0, 0 # initial within class counting\n",
    "\n",
    "    for i in range(0,L):\n",
    "        if i < threshold:\n",
    "            w1 += hist[i]\n",
    "            sum1 += i * hist[i]\n",
    "            cnt1 += hist[i]\n",
    "        else:\n",
    "            w2 += hist[i]\n",
    "            sum2 += i * hist[i]\n",
    "            cnt2 += hist[i]\n",
    "\n",
    "    w1 = w1/N\n",
    "    w2 = w2/N\n",
    "\n",
    "    if (cnt1 > 0) & (cnt2 > 0):        \n",
    "        m1 = sum1/cnt1\n",
    "        m2 = sum2/cnt2\n",
    "\n",
    "        for i in range(0,L):\n",
    "            if i < threshold:\n",
    "                S1 += (i - m1)**2 * hist[i]\n",
    "            else:\n",
    "                S2 += (i - m2)**2 * hist[i]\n",
    "        S1 = S1/cnt1\n",
    "        S2 = S2/cnt2\n",
    "        Sw = w1*S1 + w2*S2\n",
    "        Sw_vec = np.append(Sw_vec, Sw)"
   ]
  },
  {
   "cell_type": "code",
   "execution_count": 153,
   "metadata": {},
   "outputs": [
    {
     "name": "stdout",
     "output_type": "stream",
     "text": [
      "[16.51851845 13.25765038  8.86693001  6.24897099  5.77761078  4.63648653\n",
      "  3.97668028  3.99862623  4.27422714  6.75577784  8.71794891 12.15802288\n",
      " 13.54947662 16.98184204 19.02166367]\n"
     ]
    }
   ],
   "source": [
    "print(Sw_vec)"
   ]
  },
  {
   "cell_type": "code",
   "execution_count": 157,
   "metadata": {},
   "outputs": [
    {
     "name": "stdout",
     "output_type": "stream",
     "text": [
      "[16.51851845 13.25765038  8.86693001  6.24897099  5.77761078  4.63648653\n",
      "  3.97668028  3.99862623  4.27422714  6.75577784  8.71794891 12.15802288\n",
      " 13.54947662 16.98184204 19.02166367]\n",
      "optimal threshold is %d 0\n",
      "(0.0, array([[255, 255, 255, 255, 255, 255],\n",
      "       [255, 255, 255, 255, 255, 255],\n",
      "       [255, 255, 255,   0, 255, 255],\n",
      "       [255,   0, 255, 255, 255, 255],\n",
      "       [255, 255, 255, 255, 255, 255],\n",
      "       [255, 255, 255, 255, 255, 255],\n",
      "       [255, 255, 255, 255,   0, 255],\n",
      "       [255, 255, 255, 255, 255, 255],\n",
      "       [255, 255,   0, 255, 255, 255]], dtype=uint8))\n"
     ]
    }
   ],
   "source": [
    "# 4. Find optimal threshold for which 𝑆_𝑊 is minimized(opt_threshold)\n",
    "# : using “np.argmin or np.min”\n",
    "opt_threshold = np.argmin(Sw) # optimal threshold\n",
    "output = cv2.threshold(image,opt_threshold,255,cv2.THRESH_BINARY)\n",
    "cv2.threshold\n",
    "\n",
    "# 5. binary image(output) : using “print”\n",
    "print(Sw_vec)\n",
    "print(\"optimal threshold is %d\", opt_threshold)\n",
    "print(output)"
   ]
  }
 ],
 "metadata": {
  "kernelspec": {
   "display_name": "Python 3",
   "language": "python",
   "name": "python3"
  },
  "language_info": {
   "codemirror_mode": {
    "name": "ipython",
    "version": 3
   },
   "file_extension": ".py",
   "mimetype": "text/x-python",
   "name": "python",
   "nbconvert_exporter": "python",
   "pygments_lexer": "ipython3",
   "version": "3.8.5"
  }
 },
 "nbformat": 4,
 "nbformat_minor": 4
}
