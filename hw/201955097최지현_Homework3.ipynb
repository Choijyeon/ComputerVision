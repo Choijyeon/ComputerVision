{
 "cells": [
  {
   "cell_type": "code",
   "execution_count": 1,
   "metadata": {},
   "outputs": [],
   "source": [
    "import cv2\n",
    "import numpy as np"
   ]
  },
  {
   "cell_type": "code",
   "execution_count": 2,
   "metadata": {},
   "outputs": [],
   "source": [
    "def SaltandPepper(image):\n",
    "    p = 0.05\n",
    "    noise_image = image.copy()\n",
    "    for i in range(0,h):\n",
    "        for j in range(0,w):\n",
    "            temp = np.random.random(1)\n",
    "            if temp < p:\n",
    "                noise_image[i,j] = 0\n",
    "            elif temp > 1-p:\n",
    "                noise_image[i,j] = 255\n",
    "                \n",
    "    return noise_image;"
   ]
  },
  {
   "cell_type": "code",
   "execution_count": 3,
   "metadata": {},
   "outputs": [],
   "source": [
    "# image : using “cv2.imread”, Lenna.png\n",
    "image = cv2.imread(\"images/Lenna.png\", cv2.IMREAD_GRAYSCALE)\n",
    "h,w = image.shape"
   ]
  },
  {
   "cell_type": "code",
   "execution_count": null,
   "metadata": {},
   "outputs": [],
   "source": [
    "# add salt&pepper noise\n",
    "noise_image = SaltandPepper(image)\n",
    "\n",
    "for i in range(3, 14, 2):\n",
    "    kernel_size = i\n",
    "    output = cv2.medianBlur(noise_image, kernel_size)\n",
    "    cv2.imshow('kernel size('+str(kernel_size)+')',output)\n",
    "               \n",
    "cv2.waitKey(0)\n",
    "cv2.destroyAllWindows()"
   ]
  }
 ],
 "metadata": {
  "kernelspec": {
   "display_name": "Python 3",
   "language": "python",
   "name": "python3"
  },
  "language_info": {
   "codemirror_mode": {
    "name": "ipython",
    "version": 3
   },
   "file_extension": ".py",
   "mimetype": "text/x-python",
   "name": "python",
   "nbconvert_exporter": "python",
   "pygments_lexer": "ipython3",
   "version": "3.8.5"
  }
 },
 "nbformat": 4,
 "nbformat_minor": 4
}
